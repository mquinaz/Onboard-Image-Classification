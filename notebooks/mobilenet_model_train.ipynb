{
  "nbformat": 4,
  "nbformat_minor": 0,
  "metadata": {
    "colab": {
      "name": "mobilenet_model_train.ipynb",
      "provenance": [],
      "collapsed_sections": []
    },
    "kernelspec": {
      "name": "python3",
      "display_name": "Python 3"
    },
    "language_info": {
      "name": "python"
    },
    "accelerator": "GPU"
  },
  "cells": [
    {
      "cell_type": "markdown",
      "metadata": {
        "id": "12Y1eMYko_3A"
      },
      "source": [
        "# Model derived from Mobilenet using transfer learning\n",
        "\n",
        "__Model:__ Example for the Mobilenet feature vector available at [Mobilenet feature vector](https://tfhub.dev/google/tf2-preview/mobilenetv2/featurevector/4)"
      ]
    },
    {
      "cell_type": "code",
      "metadata": {
        "colab": {
          "base_uri": "https://localhost:8080/"
        },
        "id": "5vtEv2d4oxJb",
        "outputId": "a7952ffe-ddf1-423f-d484-3247024f1deb"
      },
      "source": [
        "import tensorflow as tf\n",
        "from keras.preprocessing.image import ImageDataGenerator\n",
        "import tensorflow_hub as hub\n",
        "print(\"GPU is\", \"available\" if tf.test.is_gpu_available() else \"NOT AVAILABLE\")"
      ],
      "execution_count": null,
      "outputs": [
        {
          "output_type": "stream",
          "name": "stdout",
          "text": [
            "WARNING:tensorflow:From <ipython-input-1-b26db7dfc302>:4: is_gpu_available (from tensorflow.python.framework.test_util) is deprecated and will be removed in a future version.\n",
            "Instructions for updating:\n",
            "Use `tf.config.list_physical_devices('GPU')` instead.\n",
            "GPU is available\n"
          ]
        }
      ]
    },
    {
      "cell_type": "markdown",
      "metadata": {
        "id": "j6PLJ6rfpPo-"
      },
      "source": [
        "## Get dataset"
      ]
    },
    {
      "cell_type": "code",
      "metadata": {
        "id": "9IU7U-I9pb8C",
        "colab": {
          "base_uri": "https://localhost:8080/"
        },
        "outputId": "a69eae70-298a-4b4a-ef88-4502a41800fd"
      },
      "source": [
        "# Authenticate to GCS.\n",
        "\n",
        "from google.colab import auth\n",
        "auth.authenticate_user()\n",
        "\n",
        "# Copy data set files\n",
        "!test -f dataset.zip || gsutil cp gs://onboard_image_dataset/dataset.zip .\n",
        "!unzip -q -o dataset.zip"
      ],
      "execution_count": null,
      "outputs": [
        {
          "output_type": "stream",
          "name": "stdout",
          "text": [
            "Copying gs://onboard_image_dataset/dataset.zip...\n",
            "\\ [1 files][183.3 MiB/183.3 MiB]                                                \n",
            "Operation completed over 1 objects/183.3 MiB.                                    \n"
          ]
        }
      ]
    },
    {
      "cell_type": "markdown",
      "metadata": {
        "id": "ZRC62Ob1qd0k"
      },
      "source": [
        "## Define train, validation and test sets"
      ]
    },
    {
      "cell_type": "code",
      "metadata": {
        "colab": {
          "base_uri": "https://localhost:8080/"
        },
        "id": "8aOJ9nilrGbl",
        "outputId": "3789fbab-f9e1-4855-c601-f441f9e6ccaa"
      },
      "source": [
        "datagen = ImageDataGenerator(rescale=1.0/255.0)\n",
        "train_dataset = datagen.flow_from_directory(\n",
        "    'dataset/train',\n",
        "    target_size=(224,224),\n",
        "    class_mode='sparse'\n",
        ")\n",
        "validation_dataset = datagen.flow_from_directory(\n",
        "    'dataset/validation',\n",
        "    target_size=(224,224),\n",
        "    class_mode='sparse'\n",
        ")\n",
        "test_dataset = datagen.flow_from_directory(\n",
        "    'dataset/test',\n",
        "    target_size=(224,224),\n",
        "    class_mode='sparse'\n",
        ")"
      ],
      "execution_count": null,
      "outputs": [
        {
          "output_type": "stream",
          "name": "stdout",
          "text": [
            "Found 630 images belonging to 3 classes.\n",
            "Found 135 images belonging to 3 classes.\n",
            "Found 135 images belonging to 3 classes.\n"
          ]
        }
      ]
    },
    {
      "cell_type": "markdown",
      "metadata": {
        "id": "TWI8M_iXp-p7"
      },
      "source": [
        "\n",
        "## Define CNN using Keras API\n"
      ]
    },
    {
      "cell_type": "code",
      "metadata": {
        "id": "6gxhdrHNqO_E",
        "colab": {
          "base_uri": "https://localhost:8080/"
        },
        "outputId": "dec93355-d63c-48fe-b751-924325fd3da7"
      },
      "source": [
        "model = tf.keras.Sequential([\n",
        "        hub.KerasLayer(\"https://tfhub.dev/google/tf2-preview/mobilenet_v2/feature_vector/4\", output_shape=[1280],\n",
        "            trainable=False, input_shape=(224,224,3)),  \n",
        "            tf.keras.layers.Dense(3, activation='softmax')\n",
        "        ])\n",
        "model.summary()"
      ],
      "execution_count": null,
      "outputs": [
        {
          "output_type": "stream",
          "name": "stdout",
          "text": [
            "Model: \"sequential_1\"\n",
            "_________________________________________________________________\n",
            "Layer (type)                 Output Shape              Param #   \n",
            "=================================================================\n",
            "keras_layer_1 (KerasLayer)   (None, 1280)              2257984   \n",
            "_________________________________________________________________\n",
            "dense_1 (Dense)              (None, 3)                 3843      \n",
            "=================================================================\n",
            "Total params: 2,261,827\n",
            "Trainable params: 3,843\n",
            "Non-trainable params: 2,257,984\n",
            "_________________________________________________________________\n"
          ]
        }
      ]
    },
    {
      "cell_type": "markdown",
      "metadata": {
        "id": "R_ItuC3lqUIN"
      },
      "source": [
        "## Train model"
      ]
    },
    {
      "cell_type": "code",
      "metadata": {
        "colab": {
          "base_uri": "https://localhost:8080/"
        },
        "id": "VGx8U1tiqaVD",
        "outputId": "36438781-4ce6-409e-910f-c17166939a8c"
      },
      "source": [
        "model.compile(\n",
        "    optimizer='adam',\n",
        "    loss=tf.keras.losses.SparseCategoricalCrossentropy(),\n",
        "    metrics=['accuracy']\n",
        ")\n",
        "\n",
        "max_epochs = 50\n",
        "\n",
        "stop_early = tf.keras.callbacks.EarlyStopping(monitor='val_loss', patience=10, restore_best_weights=True)\n",
        "\n",
        "history = model.fit(\n",
        "     train_dataset,\n",
        "     epochs=max_epochs,\n",
        "     validation_data=validation_dataset,\n",
        "     callbacks = [stop_early]\n",
        ")"
      ],
      "execution_count": null,
      "outputs": [
        {
          "output_type": "stream",
          "name": "stdout",
          "text": [
            "Epoch 1/50\n",
            "20/20 [==============================] - 22s 908ms/step - loss: 1.0213 - accuracy: 0.5016 - val_loss: 0.7210 - val_accuracy: 0.7259\n",
            "Epoch 2/50\n",
            "20/20 [==============================] - 16s 828ms/step - loss: 0.5824 - accuracy: 0.8270 - val_loss: 0.5253 - val_accuracy: 0.8296\n",
            "Epoch 3/50\n",
            "20/20 [==============================] - 16s 825ms/step - loss: 0.4422 - accuracy: 0.8667 - val_loss: 0.4366 - val_accuracy: 0.8444\n",
            "Epoch 4/50\n",
            "20/20 [==============================] - 17s 833ms/step - loss: 0.3615 - accuracy: 0.8968 - val_loss: 0.4009 - val_accuracy: 0.8519\n",
            "Epoch 5/50\n",
            "20/20 [==============================] - 16s 826ms/step - loss: 0.3155 - accuracy: 0.9032 - val_loss: 0.3793 - val_accuracy: 0.8519\n",
            "Epoch 6/50\n",
            "20/20 [==============================] - 17s 832ms/step - loss: 0.2862 - accuracy: 0.9127 - val_loss: 0.3629 - val_accuracy: 0.8593\n",
            "Epoch 7/50\n",
            "20/20 [==============================] - 17s 833ms/step - loss: 0.2602 - accuracy: 0.9286 - val_loss: 0.3522 - val_accuracy: 0.8815\n",
            "Epoch 8/50\n",
            "20/20 [==============================] - 17s 835ms/step - loss: 0.2388 - accuracy: 0.9397 - val_loss: 0.3199 - val_accuracy: 0.8519\n",
            "Epoch 9/50\n",
            "20/20 [==============================] - 17s 856ms/step - loss: 0.2231 - accuracy: 0.9397 - val_loss: 0.3268 - val_accuracy: 0.8741\n",
            "Epoch 10/50\n",
            "20/20 [==============================] - 16s 826ms/step - loss: 0.2013 - accuracy: 0.9492 - val_loss: 0.3019 - val_accuracy: 0.8741\n",
            "Epoch 11/50\n",
            "20/20 [==============================] - 16s 819ms/step - loss: 0.1901 - accuracy: 0.9413 - val_loss: 0.3162 - val_accuracy: 0.8741\n",
            "Epoch 12/50\n",
            "20/20 [==============================] - 17s 831ms/step - loss: 0.1788 - accuracy: 0.9587 - val_loss: 0.2820 - val_accuracy: 0.8815\n",
            "Epoch 13/50\n",
            "20/20 [==============================] - 17s 837ms/step - loss: 0.1663 - accuracy: 0.9635 - val_loss: 0.2896 - val_accuracy: 0.8815\n",
            "Epoch 14/50\n",
            "20/20 [==============================] - 17s 853ms/step - loss: 0.1565 - accuracy: 0.9619 - val_loss: 0.2754 - val_accuracy: 0.8815\n",
            "Epoch 15/50\n",
            "20/20 [==============================] - 17s 838ms/step - loss: 0.1536 - accuracy: 0.9619 - val_loss: 0.2682 - val_accuracy: 0.8963\n",
            "Epoch 16/50\n",
            "20/20 [==============================] - 17s 858ms/step - loss: 0.1414 - accuracy: 0.9667 - val_loss: 0.2824 - val_accuracy: 0.8815\n",
            "Epoch 17/50\n",
            "20/20 [==============================] - 17s 842ms/step - loss: 0.1322 - accuracy: 0.9730 - val_loss: 0.2649 - val_accuracy: 0.8963\n",
            "Epoch 18/50\n",
            "20/20 [==============================] - 16s 822ms/step - loss: 0.1235 - accuracy: 0.9730 - val_loss: 0.2637 - val_accuracy: 0.8741\n",
            "Epoch 19/50\n",
            "20/20 [==============================] - 16s 826ms/step - loss: 0.1201 - accuracy: 0.9762 - val_loss: 0.2554 - val_accuracy: 0.8963\n",
            "Epoch 20/50\n",
            "20/20 [==============================] - 16s 825ms/step - loss: 0.1173 - accuracy: 0.9730 - val_loss: 0.2583 - val_accuracy: 0.8889\n",
            "Epoch 21/50\n",
            "20/20 [==============================] - 16s 826ms/step - loss: 0.1067 - accuracy: 0.9778 - val_loss: 0.2507 - val_accuracy: 0.8963\n",
            "Epoch 22/50\n",
            "20/20 [==============================] - 17s 834ms/step - loss: 0.1033 - accuracy: 0.9825 - val_loss: 0.2529 - val_accuracy: 0.8963\n",
            "Epoch 23/50\n",
            "20/20 [==============================] - 16s 829ms/step - loss: 0.1038 - accuracy: 0.9825 - val_loss: 0.2513 - val_accuracy: 0.8963\n",
            "Epoch 24/50\n",
            "20/20 [==============================] - 17s 847ms/step - loss: 0.1000 - accuracy: 0.9794 - val_loss: 0.2459 - val_accuracy: 0.8963\n",
            "Epoch 25/50\n",
            "20/20 [==============================] - 17s 830ms/step - loss: 0.0993 - accuracy: 0.9810 - val_loss: 0.2474 - val_accuracy: 0.8963\n",
            "Epoch 26/50\n",
            "20/20 [==============================] - 17s 829ms/step - loss: 0.0870 - accuracy: 0.9825 - val_loss: 0.2416 - val_accuracy: 0.9037\n",
            "Epoch 27/50\n",
            "20/20 [==============================] - 17s 838ms/step - loss: 0.0872 - accuracy: 0.9873 - val_loss: 0.2511 - val_accuracy: 0.8963\n",
            "Epoch 28/50\n",
            "20/20 [==============================] - 17s 832ms/step - loss: 0.0836 - accuracy: 0.9825 - val_loss: 0.2383 - val_accuracy: 0.9111\n",
            "Epoch 29/50\n",
            "20/20 [==============================] - 17s 830ms/step - loss: 0.0807 - accuracy: 0.9825 - val_loss: 0.2329 - val_accuracy: 0.9037\n",
            "Epoch 30/50\n",
            "20/20 [==============================] - 17s 829ms/step - loss: 0.0758 - accuracy: 0.9873 - val_loss: 0.2375 - val_accuracy: 0.9037\n",
            "Epoch 31/50\n",
            "20/20 [==============================] - 17s 829ms/step - loss: 0.0722 - accuracy: 0.9873 - val_loss: 0.2396 - val_accuracy: 0.9111\n",
            "Epoch 32/50\n",
            "20/20 [==============================] - 16s 821ms/step - loss: 0.0706 - accuracy: 0.9889 - val_loss: 0.2353 - val_accuracy: 0.8963\n",
            "Epoch 33/50\n",
            "20/20 [==============================] - 16s 820ms/step - loss: 0.0656 - accuracy: 0.9889 - val_loss: 0.2357 - val_accuracy: 0.9111\n",
            "Epoch 34/50\n",
            "20/20 [==============================] - 16s 819ms/step - loss: 0.0665 - accuracy: 0.9921 - val_loss: 0.2396 - val_accuracy: 0.8963\n",
            "Epoch 35/50\n",
            "20/20 [==============================] - 16s 822ms/step - loss: 0.0626 - accuracy: 0.9889 - val_loss: 0.2322 - val_accuracy: 0.9037\n",
            "Epoch 36/50\n",
            "20/20 [==============================] - 16s 827ms/step - loss: 0.0600 - accuracy: 0.9905 - val_loss: 0.2282 - val_accuracy: 0.9037\n",
            "Epoch 37/50\n",
            "20/20 [==============================] - 16s 818ms/step - loss: 0.0588 - accuracy: 0.9937 - val_loss: 0.2357 - val_accuracy: 0.9037\n",
            "Epoch 38/50\n",
            "20/20 [==============================] - 16s 818ms/step - loss: 0.0570 - accuracy: 0.9952 - val_loss: 0.2297 - val_accuracy: 0.9111\n",
            "Epoch 39/50\n",
            "20/20 [==============================] - 16s 825ms/step - loss: 0.0559 - accuracy: 0.9937 - val_loss: 0.2322 - val_accuracy: 0.9037\n",
            "Epoch 40/50\n",
            "20/20 [==============================] - 16s 818ms/step - loss: 0.0541 - accuracy: 0.9968 - val_loss: 0.2301 - val_accuracy: 0.9111\n",
            "Epoch 41/50\n",
            "20/20 [==============================] - 16s 817ms/step - loss: 0.0521 - accuracy: 0.9952 - val_loss: 0.2296 - val_accuracy: 0.9037\n",
            "Epoch 42/50\n",
            "20/20 [==============================] - 16s 820ms/step - loss: 0.0495 - accuracy: 0.9968 - val_loss: 0.2302 - val_accuracy: 0.9037\n",
            "Epoch 43/50\n",
            "20/20 [==============================] - 16s 816ms/step - loss: 0.0481 - accuracy: 0.9952 - val_loss: 0.2258 - val_accuracy: 0.9111\n",
            "Epoch 44/50\n",
            "20/20 [==============================] - 16s 815ms/step - loss: 0.0466 - accuracy: 0.9984 - val_loss: 0.2366 - val_accuracy: 0.8963\n",
            "Epoch 45/50\n",
            "20/20 [==============================] - 16s 810ms/step - loss: 0.0461 - accuracy: 0.9984 - val_loss: 0.2267 - val_accuracy: 0.9111\n",
            "Epoch 46/50\n",
            "20/20 [==============================] - 16s 807ms/step - loss: 0.0438 - accuracy: 0.9968 - val_loss: 0.2259 - val_accuracy: 0.9185\n",
            "Epoch 47/50\n",
            "20/20 [==============================] - 16s 811ms/step - loss: 0.0420 - accuracy: 1.0000 - val_loss: 0.2288 - val_accuracy: 0.9185\n",
            "Epoch 48/50\n",
            "20/20 [==============================] - 16s 808ms/step - loss: 0.0421 - accuracy: 1.0000 - val_loss: 0.2287 - val_accuracy: 0.9037\n",
            "Epoch 49/50\n",
            "20/20 [==============================] - 16s 818ms/step - loss: 0.0404 - accuracy: 1.0000 - val_loss: 0.2251 - val_accuracy: 0.9185\n",
            "Epoch 50/50\n",
            "20/20 [==============================] - 16s 827ms/step - loss: 0.0398 - accuracy: 0.9984 - val_loss: 0.2282 - val_accuracy: 0.9111\n"
          ]
        }
      ]
    },
    {
      "cell_type": "markdown",
      "metadata": {
        "id": "sMpWrwYhwBle"
      },
      "source": [
        "## Plot training evolution"
      ]
    },
    {
      "cell_type": "code",
      "metadata": {
        "colab": {
          "base_uri": "https://localhost:8080/",
          "height": 499
        },
        "id": "8IP4HbI6wGnR",
        "outputId": "56203fed-a2d0-4331-8367-2eb35bf8a21a"
      },
      "source": [
        "from  matplotlib import pyplot as plt\n",
        "acc = history.history['accuracy']\n",
        "val_acc = history.history['val_accuracy']\n",
        "\n",
        "loss = history.history['loss']\n",
        "val_loss = history.history['val_loss']\n",
        "\n",
        "epochs_range = range(len(acc))\n",
        "\n",
        "plt.figure(figsize=(8, 8))\n",
        "plt.subplot(1, 2, 1)\n",
        "plt.plot(epochs_range, acc, label='Training Accuracy')\n",
        "plt.plot(epochs_range, val_acc, label='Validation Accuracy')\n",
        "plt.legend(loc='lower right')\n",
        "plt.title('Training and Validation Accuracy')\n",
        "\n",
        "plt.subplot(1, 2, 2)\n",
        "plt.plot(epochs_range, loss, label='Training Loss')\n",
        "plt.plot(epochs_range, val_loss, label='Validation Loss')\n",
        "plt.legend(loc='upper right')\n",
        "plt.title('Training and Validation Loss')\n",
        "plt.show()\n"
      ],
      "execution_count": null,
      "outputs": [
        {
          "output_type": "display_data",
          "data": {
            "image/png": "[encoded data removed]",
            "text/plain": [
              "<Figure size 576x576 with 2 Axes>"
            ]
          },
          "metadata": {
            "needs_background": "light"
          }
        }
      ]
    },
    {
      "cell_type": "markdown",
      "metadata": {
        "id": "2oxFM-9qwcg9"
      },
      "source": [
        "## Save model and convert it to TFLite format"
      ]
    },
    {
      "cell_type": "code",
      "metadata": {
        "colab": {
          "base_uri": "https://localhost:8080/"
        },
        "id": "BbNXwKWMwimt",
        "outputId": "0d2f2868-d61c-48ed-bc4f-656eec1a233c"
      },
      "source": [
        "model.save('mobilenet')\n",
        "converter = tf.lite.TFLiteConverter.from_saved_model('mobilenet') # path to the SavedModel directory\n",
        "tflite_model = converter.convert()\n",
        "with open('mobilenet.tflite', 'wb') as f:\n",
        "      f.write(tflite_model)"
      ],
      "execution_count": null,
      "outputs": [
        {
          "output_type": "stream",
          "name": "stdout",
          "text": [
            "INFO:tensorflow:Assets written to: mobilenet/assets\n"
          ]
        },
        {
          "output_type": "stream",
          "name": "stderr",
          "text": [
            "INFO:tensorflow:Assets written to: mobilenet/assets\n"
          ]
        }
      ]
    },
    {
      "cell_type": "markdown",
      "metadata": {
        "id": "ri3zPgMsybkd"
      },
      "source": [
        "## Calculate accuracy and loss for validation and test datasets"
      ]
    },
    {
      "cell_type": "code",
      "metadata": {
        "colab": {
          "base_uri": "https://localhost:8080/"
        },
        "id": "gsE03gvPyYro",
        "outputId": "9572d671-9b71-45b8-a433-ab1d9741c7c3"
      },
      "source": [
        "loss, accuracy = model.evaluate(validation_dataset)\n",
        "\n",
        "print(\"VALIDATION - loss {}, accuracy {}\".format(loss,accuracy))\n",
        "\n",
        "loss, accuracy = model.evaluate(test_dataset)\n",
        "\n",
        "print(\"TEST - loss {}, accuracy {}\".format(loss,accuracy))"
      ],
      "execution_count": null,
      "outputs": [
        {
          "output_type": "stream",
          "name": "stdout",
          "text": [
            "5/5 [==============================] - 3s 552ms/step - loss: 0.2282 - accuracy: 0.9111\n",
            "VALIDATION - loss 0.22824525833129883, accuracy 0.9111111164093018\n",
            "5/5 [==============================] - 3s 555ms/step - loss: 0.2856 - accuracy: 0.8815\n",
            "TEST - loss 0.28561288118362427, accuracy 0.8814814686775208\n"
          ]
        }
      ]
    }
  ]
}
