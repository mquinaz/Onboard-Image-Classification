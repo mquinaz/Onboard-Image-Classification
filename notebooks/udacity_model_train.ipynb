{
  "nbformat": 4,
  "nbformat_minor": 0,
  "metadata": {
    "colab": {
      "name": "udacity_model_train.ipynb",
      "provenance": [],
      "collapsed_sections": []
    },
    "kernelspec": {
      "name": "python3",
      "display_name": "Python 3"
    },
    "language_info": {
      "name": "python"
    },
    "accelerator": "GPU"
  },
  "cells": [
    {
      "cell_type": "markdown",
      "metadata": {
        "id": "12Y1eMYko_3A"
      },
      "source": [
        "# Simple model II (\"Udacity\")\n",
        "\n",
        "__Model:__ A simple CNN adapted from the MNIST example available at [TODO]()"
      ]
    },
    {
      "cell_type": "code",
      "metadata": {
        "colab": {
          "base_uri": "https://localhost:8080/"
        },
        "id": "5vtEv2d4oxJb",
        "outputId": "88429929-bc3c-4c2d-f21d-c16afa7043f6"
      },
      "source": [
        "import tensorflow as tf\n",
        "from keras.preprocessing.image import ImageDataGenerator\n",
        "from tensorflow.keras.models import Sequential\n",
        "from tensorflow.keras.layers import Dense, Conv2D, Flatten, Dropout, MaxPooling2D\n",
        "print(\"GPU is\", \"available\" if tf.test.is_gpu_available() else \"NOT AVAILABLE\")"
      ],
      "execution_count": null,
      "outputs": [
        {
          "output_type": "stream",
          "name": "stdout",
          "text": [
            "WARNING:tensorflow:From <ipython-input-1-97b0851ddb17>:5: is_gpu_available (from tensorflow.python.framework.test_util) is deprecated and will be removed in a future version.\n",
            "Instructions for updating:\n",
            "Use `tf.config.list_physical_devices('GPU')` instead.\n",
            "GPU is available\n"
          ]
        }
      ]
    },
    {
      "cell_type": "markdown",
      "metadata": {
        "id": "j6PLJ6rfpPo-"
      },
      "source": [
        "## Get dataset"
      ]
    },
    {
      "cell_type": "code",
      "metadata": {
        "id": "9IU7U-I9pb8C",
        "colab": {
          "base_uri": "https://localhost:8080/"
        },
        "outputId": "0d73b745-ebe4-4d5d-827b-56ccad3d6981"
      },
      "source": [
        "# Authenticate to GCS.\n",
        "\n",
        "from google.colab import auth\n",
        "auth.authenticate_user()\n",
        "\n",
        "# Copy data set files\n",
        "!test -f dataset.zip || gsutil cp gs://onboard_image_dataset/dataset.zip .\n",
        "!unzip -q -o dataset.zip"
      ],
      "execution_count": null,
      "outputs": [
        {
          "output_type": "stream",
          "name": "stdout",
          "text": [
            "Copying gs://onboard_image_dataset/dataset.zip...\n",
            "\\ [1 files][183.3 MiB/183.3 MiB]                                                \n",
            "Operation completed over 1 objects/183.3 MiB.                                    \n"
          ]
        }
      ]
    },
    {
      "cell_type": "markdown",
      "metadata": {
        "id": "ZRC62Ob1qd0k"
      },
      "source": [
        "## Define train, validation and test sets"
      ]
    },
    {
      "cell_type": "code",
      "metadata": {
        "colab": {
          "base_uri": "https://localhost:8080/"
        },
        "id": "8aOJ9nilrGbl",
        "outputId": "35742f63-95b2-4857-b1c0-8c0baef9e16e"
      },
      "source": [
        "datagen = ImageDataGenerator(rescale=1.0/255.0)\n",
        "train_dataset = datagen.flow_from_directory(\n",
        "    'dataset/train',\n",
        "    target_size=(64,64),\n",
        "    class_mode='sparse'\n",
        ")\n",
        "validation_dataset = datagen.flow_from_directory(\n",
        "    'dataset/validation',\n",
        "    target_size=(64,64),\n",
        "    class_mode='sparse'\n",
        ")\n",
        "test_dataset = datagen.flow_from_directory(\n",
        "    'dataset/test',\n",
        "    target_size=(64,64),\n",
        "    class_mode='sparse'\n",
        ")"
      ],
      "execution_count": null,
      "outputs": [
        {
          "output_type": "stream",
          "name": "stdout",
          "text": [
            "Found 630 images belonging to 3 classes.\n",
            "Found 135 images belonging to 3 classes.\n",
            "Found 135 images belonging to 3 classes.\n"
          ]
        }
      ]
    },
    {
      "cell_type": "markdown",
      "metadata": {
        "id": "TWI8M_iXp-p7"
      },
      "source": [
        "\n",
        "## Define CNN using Keras API\n"
      ]
    },
    {
      "cell_type": "code",
      "metadata": {
        "id": "6gxhdrHNqO_E",
        "colab": {
          "base_uri": "https://localhost:8080/"
        },
        "outputId": "37125454-f7c8-4b74-d0c6-aea86ff9f52d"
      },
      "source": [
        "model = Sequential()\n",
        "model.add(Conv2D(16, 3, padding='same', activation='relu', input_shape=(64, 64, 3)))\n",
        "model.add(MaxPooling2D(pool_size=(2, 2)))\n",
        "model.add(Conv2D(32, 3, padding='same', activation='relu'))\n",
        "model.add(MaxPooling2D(pool_size=(2, 2)))\n",
        "model.add(Conv2D(64, 3, padding='same', activation='relu'))\n",
        "model.add(MaxPooling2D(pool_size=(2, 2)))\n",
        "model.add(Flatten())\n",
        "model.add(Dropout(0.2))\n",
        "model.add(Dense(512, activation='relu'))\n",
        "model.add(Dropout(0.2))\n",
        "model.add(Dense(3, activation='softmax'))\n",
        "model.summary()"
      ],
      "execution_count": null,
      "outputs": [
        {
          "output_type": "stream",
          "name": "stdout",
          "text": [
            "Model: \"sequential\"\n",
            "_________________________________________________________________\n",
            "Layer (type)                 Output Shape              Param #   \n",
            "=================================================================\n",
            "conv2d (Conv2D)              (None, 64, 64, 16)        448       \n",
            "_________________________________________________________________\n",
            "max_pooling2d (MaxPooling2D) (None, 32, 32, 16)        0         \n",
            "_________________________________________________________________\n",
            "conv2d_1 (Conv2D)            (None, 32, 32, 32)        4640      \n",
            "_________________________________________________________________\n",
            "max_pooling2d_1 (MaxPooling2 (None, 16, 16, 32)        0         \n",
            "_________________________________________________________________\n",
            "conv2d_2 (Conv2D)            (None, 16, 16, 64)        18496     \n",
            "_________________________________________________________________\n",
            "max_pooling2d_2 (MaxPooling2 (None, 8, 8, 64)          0         \n",
            "_________________________________________________________________\n",
            "flatten (Flatten)            (None, 4096)              0         \n",
            "_________________________________________________________________\n",
            "dropout (Dropout)            (None, 4096)              0         \n",
            "_________________________________________________________________\n",
            "dense (Dense)                (None, 512)               2097664   \n",
            "_________________________________________________________________\n",
            "dropout_1 (Dropout)          (None, 512)               0         \n",
            "_________________________________________________________________\n",
            "dense_1 (Dense)              (None, 3)                 1539      \n",
            "=================================================================\n",
            "Total params: 2,122,787\n",
            "Trainable params: 2,122,787\n",
            "Non-trainable params: 0\n",
            "_________________________________________________________________\n"
          ]
        }
      ]
    },
    {
      "cell_type": "markdown",
      "metadata": {
        "id": "R_ItuC3lqUIN"
      },
      "source": [
        "## Train model"
      ]
    },
    {
      "cell_type": "code",
      "metadata": {
        "colab": {
          "base_uri": "https://localhost:8080/"
        },
        "id": "VGx8U1tiqaVD",
        "outputId": "231b9f30-0afa-44bd-d819-4e886d8611d3"
      },
      "source": [
        "model.compile(\n",
        "    optimizer='adam',\n",
        "    loss=tf.keras.losses.SparseCategoricalCrossentropy(),\n",
        "    metrics=['accuracy']\n",
        ")\n",
        "\n",
        "max_epochs = 50\n",
        "\n",
        "stop_early = tf.keras.callbacks.EarlyStopping(monitor='val_loss', patience=10, restore_best_weights=True)\n",
        "\n",
        "history = model.fit(\n",
        "     train_dataset,\n",
        "     epochs=max_epochs,\n",
        "     validation_data=validation_dataset,\n",
        "     callbacks = [stop_early]\n",
        ")"
      ],
      "execution_count": null,
      "outputs": [
        {
          "output_type": "stream",
          "name": "stdout",
          "text": [
            "Epoch 1/50\n",
            "20/20 [==============================] - 43s 791ms/step - loss: 1.0813 - accuracy: 0.4397 - val_loss: 1.0334 - val_accuracy: 0.5556\n",
            "Epoch 2/50\n",
            "20/20 [==============================] - 15s 773ms/step - loss: 0.9294 - accuracy: 0.5556 - val_loss: 0.8012 - val_accuracy: 0.6519\n",
            "Epoch 3/50\n",
            "20/20 [==============================] - 15s 779ms/step - loss: 0.7341 - accuracy: 0.6873 - val_loss: 0.6862 - val_accuracy: 0.7407\n",
            "Epoch 4/50\n",
            "20/20 [==============================] - 15s 778ms/step - loss: 0.6241 - accuracy: 0.7365 - val_loss: 0.6225 - val_accuracy: 0.6963\n",
            "Epoch 5/50\n",
            "20/20 [==============================] - 15s 771ms/step - loss: 0.5474 - accuracy: 0.7778 - val_loss: 0.6165 - val_accuracy: 0.7333\n",
            "Epoch 6/50\n",
            "20/20 [==============================] - 15s 774ms/step - loss: 0.5434 - accuracy: 0.8079 - val_loss: 0.5915 - val_accuracy: 0.7852\n",
            "Epoch 7/50\n",
            "20/20 [==============================] - 15s 774ms/step - loss: 0.5663 - accuracy: 0.7460 - val_loss: 0.6462 - val_accuracy: 0.7037\n",
            "Epoch 8/50\n",
            "20/20 [==============================] - 15s 775ms/step - loss: 0.4757 - accuracy: 0.7968 - val_loss: 0.6861 - val_accuracy: 0.7333\n",
            "Epoch 9/50\n",
            "20/20 [==============================] - 15s 784ms/step - loss: 0.4633 - accuracy: 0.8143 - val_loss: 0.6537 - val_accuracy: 0.7259\n",
            "Epoch 10/50\n",
            "20/20 [==============================] - 16s 782ms/step - loss: 0.4128 - accuracy: 0.8508 - val_loss: 0.5313 - val_accuracy: 0.7630\n",
            "Epoch 11/50\n",
            "20/20 [==============================] - 16s 787ms/step - loss: 0.4219 - accuracy: 0.8365 - val_loss: 0.5885 - val_accuracy: 0.7556\n",
            "Epoch 12/50\n",
            "20/20 [==============================] - 15s 780ms/step - loss: 0.3611 - accuracy: 0.8683 - val_loss: 0.5756 - val_accuracy: 0.7556\n",
            "Epoch 13/50\n",
            "20/20 [==============================] - 16s 787ms/step - loss: 0.3130 - accuracy: 0.8810 - val_loss: 0.5309 - val_accuracy: 0.8000\n",
            "Epoch 14/50\n",
            "20/20 [==============================] - 15s 778ms/step - loss: 0.3143 - accuracy: 0.8857 - val_loss: 0.6922 - val_accuracy: 0.7185\n",
            "Epoch 15/50\n",
            "20/20 [==============================] - 15s 773ms/step - loss: 0.2988 - accuracy: 0.8810 - val_loss: 0.5469 - val_accuracy: 0.8000\n",
            "Epoch 16/50\n",
            "20/20 [==============================] - 15s 770ms/step - loss: 0.2812 - accuracy: 0.8937 - val_loss: 0.5607 - val_accuracy: 0.7852\n",
            "Epoch 17/50\n",
            "20/20 [==============================] - 15s 775ms/step - loss: 0.2771 - accuracy: 0.9048 - val_loss: 0.6054 - val_accuracy: 0.7630\n",
            "Epoch 18/50\n",
            "20/20 [==============================] - 16s 783ms/step - loss: 0.2527 - accuracy: 0.9095 - val_loss: 0.5153 - val_accuracy: 0.8148\n",
            "Epoch 19/50\n",
            "20/20 [==============================] - 15s 778ms/step - loss: 0.2194 - accuracy: 0.9159 - val_loss: 0.6584 - val_accuracy: 0.7778\n",
            "Epoch 20/50\n",
            "20/20 [==============================] - 15s 768ms/step - loss: 0.2478 - accuracy: 0.9127 - val_loss: 0.7609 - val_accuracy: 0.7407\n",
            "Epoch 21/50\n",
            "20/20 [==============================] - 15s 772ms/step - loss: 0.2308 - accuracy: 0.9175 - val_loss: 0.6134 - val_accuracy: 0.8074\n",
            "Epoch 22/50\n",
            "20/20 [==============================] - 16s 783ms/step - loss: 0.2227 - accuracy: 0.9238 - val_loss: 0.6366 - val_accuracy: 0.7778\n",
            "Epoch 23/50\n",
            "20/20 [==============================] - 15s 775ms/step - loss: 0.1843 - accuracy: 0.9365 - val_loss: 0.6333 - val_accuracy: 0.8296\n",
            "Epoch 24/50\n",
            "20/20 [==============================] - 15s 775ms/step - loss: 0.1937 - accuracy: 0.9349 - val_loss: 0.6900 - val_accuracy: 0.7481\n",
            "Epoch 25/50\n",
            "20/20 [==============================] - 15s 778ms/step - loss: 0.2007 - accuracy: 0.9349 - val_loss: 0.5905 - val_accuracy: 0.7926\n",
            "Epoch 26/50\n",
            "20/20 [==============================] - 16s 784ms/step - loss: 0.1838 - accuracy: 0.9413 - val_loss: 0.8539 - val_accuracy: 0.7481\n",
            "Epoch 27/50\n",
            "20/20 [==============================] - 15s 781ms/step - loss: 0.2041 - accuracy: 0.9365 - val_loss: 0.9038 - val_accuracy: 0.7926\n",
            "Epoch 28/50\n",
            "20/20 [==============================] - 16s 781ms/step - loss: 0.1528 - accuracy: 0.9460 - val_loss: 0.6328 - val_accuracy: 0.7852\n"
          ]
        }
      ]
    },
    {
      "cell_type": "markdown",
      "metadata": {
        "id": "sMpWrwYhwBle"
      },
      "source": [
        "## Plot training evolution"
      ]
    },
    {
      "cell_type": "code",
      "metadata": {
        "colab": {
          "base_uri": "https://localhost:8080/",
          "height": 499
        },
        "id": "8IP4HbI6wGnR",
        "outputId": "aac0558f-eaed-424f-9740-ce46633fc3ea"
      },
      "source": [
        "from  matplotlib import pyplot as plt\n",
        "acc = history.history['accuracy']\n",
        "val_acc = history.history['val_accuracy']\n",
        "\n",
        "loss = history.history['loss']\n",
        "val_loss = history.history['val_loss']\n",
        "\n",
        "epochs_range = range(len(acc))\n",
        "\n",
        "plt.figure(figsize=(8, 8))\n",
        "plt.subplot(1, 2, 1)\n",
        "plt.plot(epochs_range, acc, label='Training Accuracy')\n",
        "plt.plot(epochs_range, val_acc, label='Validation Accuracy')\n",
        "plt.legend(loc='lower right')\n",
        "plt.title('Training and Validation Accuracy')\n",
        "\n",
        "plt.subplot(1, 2, 2)\n",
        "plt.plot(epochs_range, loss, label='Training Loss')\n",
        "plt.plot(epochs_range, val_loss, label='Validation Loss')\n",
        "plt.legend(loc='upper right')\n",
        "plt.title('Training and Validation Loss')\n",
        "plt.show()\n"
      ],
      "execution_count": null,
      "outputs": [
        {
          "output_type": "display_data",
          "data": {
            "image/png": "[encoded data removed]",
            "text/plain": [
              "<Figure size 576x576 with 2 Axes>"
            ]
          },
          "metadata": {
            "needs_background": "light"
          }
        }
      ]
    },
    {
      "cell_type": "markdown",
      "metadata": {
        "id": "2oxFM-9qwcg9"
      },
      "source": [
        "## Save model and convert it to TFLite format"
      ]
    },
    {
      "cell_type": "code",
      "metadata": {
        "colab": {
          "base_uri": "https://localhost:8080/"
        },
        "id": "BbNXwKWMwimt",
        "outputId": "3e280542-1970-4d01-9880-ce9df1898a40"
      },
      "source": [
        "model.save('udacity')\n",
        "converter = tf.lite.TFLiteConverter.from_saved_model('udacity') # path to the SavedModel directory\n",
        "tflite_model = converter.convert()\n",
        "with open('udacity.tflite', 'wb') as f:\n",
        "      f.write(tflite_model)"
      ],
      "execution_count": null,
      "outputs": [
        {
          "output_type": "stream",
          "name": "stdout",
          "text": [
            "INFO:tensorflow:Assets written to: udacity/assets\n"
          ]
        }
      ]
    },
    {
      "cell_type": "markdown",
      "metadata": {
        "id": "ri3zPgMsybkd"
      },
      "source": [
        "## Calculate accuracy and loss for validation and test datasets"
      ]
    },
    {
      "cell_type": "code",
      "metadata": {
        "colab": {
          "base_uri": "https://localhost:8080/"
        },
        "id": "gsE03gvPyYro",
        "outputId": "149503fc-f4cf-4447-b2d9-c6fe25792f23"
      },
      "source": [
        "loss, accuracy = model.evaluate(validation_dataset)\n",
        "\n",
        "print(\"VALIDATION - loss {}, accuracy {}\".format(loss,accuracy))\n",
        "\n",
        "loss, accuracy = model.evaluate(test_dataset)\n",
        "\n",
        "print(\"TEST - loss {}, accuracy {}\".format(loss,accuracy))"
      ],
      "execution_count": null,
      "outputs": [
        {
          "output_type": "stream",
          "name": "stdout",
          "text": [
            "5/5 [==============================] - 3s 533ms/step - loss: 0.5153 - accuracy: 0.8148\n",
            "VALIDATION - loss 0.5153446793556213, accuracy 0.8148148059844971\n",
            "5/5 [==============================] - 3s 524ms/step - loss: 0.3569 - accuracy: 0.8593\n",
            "TEST - loss 0.35689589381217957, accuracy 0.8592592477798462\n"
          ]
        }
      ]
    }
  ]
}