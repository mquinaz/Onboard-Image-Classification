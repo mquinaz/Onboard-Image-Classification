{
  "nbformat": 4,
  "nbformat_minor": 0,
  "metadata": {
    "colab": {
      "name": "mnist_model_train.ipynb",
      "provenance": [],
      "collapsed_sections": []
    },
    "kernelspec": {
      "name": "python3",
      "display_name": "Python 3"
    },
    "language_info": {
      "name": "python"
    },
    "accelerator": "GPU"
  },
  "cells": [
    {
      "cell_type": "markdown",
      "metadata": {
        "id": "12Y1eMYko_3A"
      },
      "source": [
        "# Simple model I\n",
        "\n",
        "__Model:__ A simple CNN adapted from the MNIST example available at [Mnist tutorial](https://colab.research.google.com/github/tensorflow/docs/blob/master/site/en/tutorials/quickstart/beginner.ipynb)"
      ]
    },
    {
      "cell_type": "code",
      "metadata": {
        "colab": {
          "base_uri": "https://localhost:8080/"
        },
        "id": "5vtEv2d4oxJb",
        "outputId": "e7a513bf-de9b-4bba-d997-facffea7acb0"
      },
      "source": [
        "import tensorflow as tf\n",
        "from keras.preprocessing.image import ImageDataGenerator\n",
        "from tensorflow.keras.models import Sequential\n",
        "from tensorflow.keras.layers import Dense, Flatten, Dropout\n",
        "print(\"GPU is\", \"available\" if tf.test.is_gpu_available() else \"NOT AVAILABLE\")"
      ],
      "execution_count": null,
      "outputs": [
        {
          "output_type": "stream",
          "name": "stdout",
          "text": [
            "WARNING:tensorflow:From <ipython-input-1-8a5afc2c4e26>:5: is_gpu_available (from tensorflow.python.framework.test_util) is deprecated and will be removed in a future version.\n",
            "Instructions for updating:\n",
            "Use `tf.config.list_physical_devices('GPU')` instead.\n",
            "GPU is available\n"
          ]
        }
      ]
    },
    {
      "cell_type": "markdown",
      "metadata": {
        "id": "j6PLJ6rfpPo-"
      },
      "source": [
        "## Get dataset"
      ]
    },
    {
      "cell_type": "code",
      "metadata": {
        "colab": {
          "base_uri": "https://localhost:8080/"
        },
        "id": "9IU7U-I9pb8C",
        "outputId": "c7ed06c6-a32e-4358-e958-4445eed1f590"
      },
      "source": [
        "# Authenticate to GCS.\n",
        "\n",
        "from google.colab import auth\n",
        "auth.authenticate_user()\n",
        "\n",
        "# Copy data set files\n",
        "!test -f dataset.zip || gsutil cp gs://onboard_image_dataset/dataset.zip .\n",
        "!unzip -q -o dataset.zip"
      ],
      "execution_count": null,
      "outputs": [
        {
          "output_type": "stream",
          "name": "stdout",
          "text": [
            "Copying gs://onboard_image_dataset/dataset.zip...\n",
            "| [1 files][183.3 MiB/183.3 MiB]                                                \n",
            "Operation completed over 1 objects/183.3 MiB.                                    \n"
          ]
        }
      ]
    },
    {
      "cell_type": "markdown",
      "metadata": {
        "id": "ZRC62Ob1qd0k"
      },
      "source": [
        "## Define train, validation and test sets"
      ]
    },
    {
      "cell_type": "code",
      "metadata": {
        "colab": {
          "base_uri": "https://localhost:8080/"
        },
        "id": "8aOJ9nilrGbl",
        "outputId": "a62b086a-12ac-481f-d12d-ad2e407047f1"
      },
      "source": [
        "datagen = ImageDataGenerator(rescale=1.0/255.0)\n",
        "train_dataset = datagen.flow_from_directory(\n",
        "    'dataset/train',\n",
        "    target_size=(64,64),\n",
        "    class_mode='sparse'\n",
        ")\n",
        "validation_dataset = datagen.flow_from_directory(\n",
        "    'dataset/validation',\n",
        "    target_size=(64,64),\n",
        "    class_mode='sparse'\n",
        ")\n",
        "test_dataset = datagen.flow_from_directory(\n",
        "    'dataset/test',\n",
        "    target_size=(64,64),\n",
        "    class_mode='sparse'\n",
        ")"
      ],
      "execution_count": null,
      "outputs": [
        {
          "output_type": "stream",
          "name": "stdout",
          "text": [
            "Found 630 images belonging to 3 classes.\n",
            "Found 135 images belonging to 3 classes.\n",
            "Found 135 images belonging to 3 classes.\n"
          ]
        }
      ]
    },
    {
      "cell_type": "markdown",
      "metadata": {
        "id": "TWI8M_iXp-p7"
      },
      "source": [
        "\n",
        "## Define CNN using Keras API\n"
      ]
    },
    {
      "cell_type": "code",
      "metadata": {
        "colab": {
          "base_uri": "https://localhost:8080/"
        },
        "id": "6gxhdrHNqO_E",
        "outputId": "41b0dc03-f1ca-4c34-ae0a-b2f899cf5842"
      },
      "source": [
        "model = tf.keras.models.Sequential([\n",
        "      tf.keras.layers.Flatten(input_shape=(64, 64, 3)),\n",
        "      tf.keras.layers.Dense(128, activation='relu'),\n",
        "      tf.keras.layers.Dropout(0.2),\n",
        "      tf.keras.layers.Dense(3, activation='softmax')\n",
        "])\n",
        "model.summary()"
      ],
      "execution_count": null,
      "outputs": [
        {
          "output_type": "stream",
          "name": "stdout",
          "text": [
            "Model: \"sequential\"\n",
            "_________________________________________________________________\n",
            "Layer (type)                 Output Shape              Param #   \n",
            "=================================================================\n",
            "flatten (Flatten)            (None, 12288)             0         \n",
            "_________________________________________________________________\n",
            "dense (Dense)                (None, 128)               1572992   \n",
            "_________________________________________________________________\n",
            "dropout (Dropout)            (None, 128)               0         \n",
            "_________________________________________________________________\n",
            "dense_1 (Dense)              (None, 3)                 387       \n",
            "=================================================================\n",
            "Total params: 1,573,379\n",
            "Trainable params: 1,573,379\n",
            "Non-trainable params: 0\n",
            "_________________________________________________________________\n"
          ]
        }
      ]
    },
    {
      "cell_type": "markdown",
      "metadata": {
        "id": "R_ItuC3lqUIN"
      },
      "source": [
        "## Train model"
      ]
    },
    {
      "cell_type": "code",
      "metadata": {
        "colab": {
          "base_uri": "https://localhost:8080/"
        },
        "id": "VGx8U1tiqaVD",
        "outputId": "0485f5e9-cc41-4e0e-a35f-160f0e6d2c60"
      },
      "source": [
        "model.compile(\n",
        "    optimizer='adam',\n",
        "    loss=tf.keras.losses.SparseCategoricalCrossentropy(),\n",
        "    metrics=['accuracy']\n",
        ")\n",
        "\n",
        "stop_early = tf.keras.callbacks.EarlyStopping(monitor='val_loss', patience=10, restore_best_weights=True)\n",
        "\n",
        "max_epochs = 50\n",
        "\n",
        "history = model.fit(\n",
        "     train_dataset,\n",
        "     epochs=max_epochs,\n",
        "     validation_data=validation_dataset,\n",
        "     callbacks=[stop_early]\n",
        ")"
      ],
      "execution_count": null,
      "outputs": [
        {
          "output_type": "stream",
          "name": "stdout",
          "text": [
            "Epoch 1/50\n",
            "20/20 [==============================] - 17s 753ms/step - loss: 3.1853 - accuracy: 0.3492 - val_loss: 1.1692 - val_accuracy: 0.3333\n",
            "Epoch 2/50\n",
            "20/20 [==============================] - 15s 748ms/step - loss: 1.1575 - accuracy: 0.4698 - val_loss: 0.9699 - val_accuracy: 0.5630\n",
            "Epoch 3/50\n",
            "20/20 [==============================] - 15s 735ms/step - loss: 0.9584 - accuracy: 0.5397 - val_loss: 0.8592 - val_accuracy: 0.6593\n",
            "Epoch 4/50\n",
            "20/20 [==============================] - 15s 737ms/step - loss: 0.8331 - accuracy: 0.6381 - val_loss: 0.8520 - val_accuracy: 0.6667\n",
            "Epoch 5/50\n",
            "20/20 [==============================] - 15s 731ms/step - loss: 0.8298 - accuracy: 0.5984 - val_loss: 0.8083 - val_accuracy: 0.6370\n",
            "Epoch 6/50\n",
            "20/20 [==============================] - 15s 737ms/step - loss: 0.7861 - accuracy: 0.6476 - val_loss: 0.8210 - val_accuracy: 0.6741\n",
            "Epoch 7/50\n",
            "20/20 [==============================] - 15s 738ms/step - loss: 0.8038 - accuracy: 0.6190 - val_loss: 0.8022 - val_accuracy: 0.6370\n",
            "Epoch 8/50\n",
            "20/20 [==============================] - 15s 735ms/step - loss: 0.7333 - accuracy: 0.6841 - val_loss: 0.7417 - val_accuracy: 0.7185\n",
            "Epoch 9/50\n",
            "20/20 [==============================] - 14s 727ms/step - loss: 0.7525 - accuracy: 0.6698 - val_loss: 0.7452 - val_accuracy: 0.6444\n",
            "Epoch 10/50\n",
            "20/20 [==============================] - 14s 724ms/step - loss: 0.7593 - accuracy: 0.6492 - val_loss: 0.7438 - val_accuracy: 0.6741\n",
            "Epoch 11/50\n",
            "20/20 [==============================] - 14s 725ms/step - loss: 0.6855 - accuracy: 0.7079 - val_loss: 0.7026 - val_accuracy: 0.7111\n",
            "Epoch 12/50\n",
            "20/20 [==============================] - 15s 732ms/step - loss: 0.6573 - accuracy: 0.7238 - val_loss: 0.7050 - val_accuracy: 0.7407\n",
            "Epoch 13/50\n",
            "20/20 [==============================] - 15s 731ms/step - loss: 0.6595 - accuracy: 0.7063 - val_loss: 0.7078 - val_accuracy: 0.6963\n",
            "Epoch 14/50\n",
            "20/20 [==============================] - 15s 732ms/step - loss: 0.6579 - accuracy: 0.7048 - val_loss: 0.6829 - val_accuracy: 0.7259\n",
            "Epoch 15/50\n",
            "20/20 [==============================] - 15s 737ms/step - loss: 0.6404 - accuracy: 0.7349 - val_loss: 0.6655 - val_accuracy: 0.7037\n",
            "Epoch 16/50\n",
            "20/20 [==============================] - 15s 735ms/step - loss: 0.6223 - accuracy: 0.7476 - val_loss: 0.7419 - val_accuracy: 0.6963\n",
            "Epoch 17/50\n",
            "20/20 [==============================] - 15s 735ms/step - loss: 0.6258 - accuracy: 0.7381 - val_loss: 0.6810 - val_accuracy: 0.7185\n",
            "Epoch 18/50\n",
            "20/20 [==============================] - 14s 726ms/step - loss: 0.5889 - accuracy: 0.7857 - val_loss: 0.6720 - val_accuracy: 0.7333\n",
            "Epoch 19/50\n",
            "20/20 [==============================] - 14s 738ms/step - loss: 0.5535 - accuracy: 0.7778 - val_loss: 0.6420 - val_accuracy: 0.7407\n",
            "Epoch 20/50\n",
            "20/20 [==============================] - 14s 716ms/step - loss: 0.6024 - accuracy: 0.7635 - val_loss: 0.6762 - val_accuracy: 0.7185\n",
            "Epoch 21/50\n",
            "20/20 [==============================] - 14s 731ms/step - loss: 0.6207 - accuracy: 0.7429 - val_loss: 0.6737 - val_accuracy: 0.6889\n",
            "Epoch 22/50\n",
            "20/20 [==============================] - 15s 738ms/step - loss: 0.5800 - accuracy: 0.7683 - val_loss: 0.6440 - val_accuracy: 0.7333\n",
            "Epoch 23/50\n",
            "20/20 [==============================] - 15s 735ms/step - loss: 0.6179 - accuracy: 0.7206 - val_loss: 0.6863 - val_accuracy: 0.7185\n",
            "Epoch 24/50\n",
            "20/20 [==============================] - 15s 732ms/step - loss: 0.6350 - accuracy: 0.7048 - val_loss: 0.7637 - val_accuracy: 0.6000\n",
            "Epoch 25/50\n",
            "20/20 [==============================] - 15s 736ms/step - loss: 0.6388 - accuracy: 0.7302 - val_loss: 0.7715 - val_accuracy: 0.6889\n",
            "Epoch 26/50\n",
            "20/20 [==============================] - 15s 759ms/step - loss: 0.6380 - accuracy: 0.7286 - val_loss: 0.6387 - val_accuracy: 0.7333\n",
            "Epoch 27/50\n",
            "20/20 [==============================] - 15s 740ms/step - loss: 0.6444 - accuracy: 0.7365 - val_loss: 0.8787 - val_accuracy: 0.6000\n",
            "Epoch 28/50\n",
            "20/20 [==============================] - 15s 760ms/step - loss: 0.6514 - accuracy: 0.7159 - val_loss: 0.6972 - val_accuracy: 0.6741\n",
            "Epoch 29/50\n",
            "20/20 [==============================] - 15s 739ms/step - loss: 0.6006 - accuracy: 0.7397 - val_loss: 0.6750 - val_accuracy: 0.7111\n",
            "Epoch 30/50\n",
            "20/20 [==============================] - 15s 749ms/step - loss: 0.5878 - accuracy: 0.7571 - val_loss: 0.6997 - val_accuracy: 0.7037\n",
            "Epoch 31/50\n",
            "20/20 [==============================] - 15s 756ms/step - loss: 0.5951 - accuracy: 0.7397 - val_loss: 0.6758 - val_accuracy: 0.7407\n",
            "Epoch 32/50\n",
            "20/20 [==============================] - 15s 749ms/step - loss: 0.6156 - accuracy: 0.7635 - val_loss: 0.6486 - val_accuracy: 0.7259\n",
            "Epoch 33/50\n",
            "20/20 [==============================] - 15s 754ms/step - loss: 0.5621 - accuracy: 0.7540 - val_loss: 0.6643 - val_accuracy: 0.7185\n",
            "Epoch 34/50\n",
            "20/20 [==============================] - 15s 742ms/step - loss: 0.5410 - accuracy: 0.8063 - val_loss: 0.6987 - val_accuracy: 0.6741\n",
            "Epoch 35/50\n",
            "20/20 [==============================] - 15s 738ms/step - loss: 0.5956 - accuracy: 0.7254 - val_loss: 0.6402 - val_accuracy: 0.7185\n",
            "Epoch 36/50\n",
            "20/20 [==============================] - 14s 728ms/step - loss: 0.5828 - accuracy: 0.7540 - val_loss: 0.6532 - val_accuracy: 0.7037\n"
          ]
        }
      ]
    },
    {
      "cell_type": "markdown",
      "metadata": {
        "id": "sMpWrwYhwBle"
      },
      "source": [
        "## Plot training evolution"
      ]
    },
    {
      "cell_type": "code",
      "metadata": {
        "colab": {
          "base_uri": "https://localhost:8080/",
          "height": 499
        },
        "id": "8IP4HbI6wGnR",
        "outputId": "17dcfb6b-5773-4dbd-af72-8c449ee88749"
      },
      "source": [
        "from  matplotlib import pyplot as plt\n",
        "acc = history.history['accuracy']\n",
        "val_acc = history.history['val_accuracy']\n",
        "\n",
        "loss = history.history['loss']\n",
        "val_loss = history.history['val_loss']\n",
        "\n",
        "epochs_range = range(len(acc))\n",
        "\n",
        "plt.figure(figsize=(8, 8))\n",
        "plt.subplot(1, 2, 1)\n",
        "plt.plot(epochs_range, acc, label='Training Accuracy')\n",
        "plt.plot(epochs_range, val_acc, label='Validation Accuracy')\n",
        "plt.legend(loc='lower right')\n",
        "plt.title('Training and Validation Accuracy')\n",
        "\n",
        "plt.subplot(1, 2, 2)\n",
        "plt.plot(epochs_range, loss, label='Training Loss')\n",
        "plt.plot(epochs_range, val_loss, label='Validation Loss')\n",
        "plt.legend(loc='upper right')\n",
        "plt.title('Training and Validation Loss')\n",
        "plt.show()\n"
      ],
      "execution_count": null,
      "outputs": [
        {
          "output_type": "display_data",
          "data": {
            "image/png": "[encoded data removed]",
            "text/plain": [
              "<Figure size 576x576 with 2 Axes>"
            ]
          },
          "metadata": {
            "needs_background": "light"
          }
        }
      ]
    },
    {
      "cell_type": "markdown",
      "metadata": {
        "id": "2oxFM-9qwcg9"
      },
      "source": [
        "## Save model and convert it to TFLite format"
      ]
    },
    {
      "cell_type": "code",
      "metadata": {
        "colab": {
          "base_uri": "https://localhost:8080/"
        },
        "id": "BbNXwKWMwimt",
        "outputId": "c357dabb-886f-4721-adce-9dd69d10c785"
      },
      "source": [
        "model.save('mnist')\n",
        "converter = tf.lite.TFLiteConverter.from_saved_model('mnist') # path to the SavedModel directory\n",
        "tflite_model = converter.convert()\n",
        "with open('mnist.tflite', 'wb') as f:\n",
        "      f.write(tflite_model)"
      ],
      "execution_count": null,
      "outputs": [
        {
          "output_type": "stream",
          "name": "stdout",
          "text": [
            "INFO:tensorflow:Assets written to: mnist/assets\n"
          ]
        }
      ]
    },
    {
      "cell_type": "markdown",
      "metadata": {
        "id": "ri3zPgMsybkd"
      },
      "source": [
        "## Calculate accuracy and loss for test dataset"
      ]
    },
    {
      "cell_type": "code",
      "metadata": {
        "colab": {
          "base_uri": "https://localhost:8080/"
        },
        "id": "gsE03gvPyYro",
        "outputId": "70791981-cf77-4303-dd20-7db8ef9db6aa"
      },
      "source": [
        "loss, accuracy = model.evaluate(validation_dataset)\n",
        "\n",
        "print(\"VALIDATION - loss {}, accuracy {}\".format(loss,accuracy))\n",
        "\n",
        "loss, accuracy = model.evaluate(test_dataset)\n",
        "\n",
        "print(\"TEST - loss {}, accuracy {}\".format(loss,accuracy))"
      ],
      "execution_count": null,
      "outputs": [
        {
          "output_type": "stream",
          "name": "stdout",
          "text": [
            "5/5 [==============================] - 3s 497ms/step - loss: 0.6387 - accuracy: 0.7333\n",
            "VALIDATION - loss 0.638741672039032, accuracy 0.7333333492279053\n",
            "5/5 [==============================] - 3s 492ms/step - loss: 0.5861 - accuracy: 0.8000\n",
            "TEST - loss 0.5860760807991028, accuracy 0.800000011920929\n"
          ]
        }
      ]
    }
  ]
}
